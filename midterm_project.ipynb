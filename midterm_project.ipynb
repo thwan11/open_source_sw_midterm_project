{
 "cells": [
  {
   "cell_type": "markdown",
   "id": "mobile-johns",
   "metadata": {},
   "source": [
    "# Load Packages"
   ]
  },
  {
   "cell_type": "code",
   "execution_count": 1,
   "id": "cosmetic-bolivia",
   "metadata": {},
   "outputs": [],
   "source": [
    "import numpy as np\n",
    "from matplotlib import pyplot as plt\n",
    "%matplotlib inline"
   ]
  },
  {
   "cell_type": "markdown",
   "id": "immediate-briefs",
   "metadata": {},
   "source": [
    "# Load Data Points (Do not modify the following block)"
   ]
  },
  {
   "cell_type": "code",
   "execution_count": 2,
   "id": "surgical-background",
   "metadata": {},
   "outputs": [
    {
     "name": "stdout",
     "output_type": "stream",
     "text": [
      "=================================\n",
      "We have 15 number of data\n",
      "=================================\n",
      "Coefficients of the original polynomial\n",
      "w0:-0.467  w1:-0.005  w2:0.281  w3:-0.054  \n",
      "=================================\n"
     ]
    },
    {
     "data": {
      "image/png": "[encoded data removed]",
      "text/plain": [
       "<Figure size 432x288 with 1 Axes>"
      ]
     },
     "metadata": {
      "needs_background": "light"
     },
     "output_type": "display_data"
    }
   ],
   "source": [
    "with open('training_data.npz', 'rb') as f:\n",
    "    data = np.load(f)\n",
    "\n",
    "    x_list = data['x_list']\n",
    "    y_list = data['y_list']\n",
    "\n",
    "    x_data = data['x_data']\n",
    "    y_data = data['y_data']\n",
    "    n_data = len(x_data)\n",
    "    \n",
    "    w = data['w']\n",
    "    original_degree = data['order']\n",
    "    \n",
    "# Print information of original function.\n",
    "print(\"=================================\")\n",
    "print(\"We have\", n_data, \"number of data\")\n",
    "\n",
    "print(\"=================================\")\n",
    "weight_info_string = ''\n",
    "for d in range(original_degree):\n",
    "    weight_info_string += 'w'+str(d)+':'+str(round(w[d],ndigits=3))+'  '\n",
    "print(\"Coefficients of the original polynomial\")\n",
    "print(weight_info_string)\n",
    "print(\"=================================\")\n",
    "    \n",
    "plt.plot(x_list, y_list, 'b:', linewidth=2, label=\"Original Function\")\n",
    "plt.scatter(x_data, y_data, s=50, c='r', label=\"Data Points\")\n",
    "plt.xlim([np.min(x_list),np.max(x_list)])\n",
    "plt.ylim([np.min(y_data),np.max(y_data)])\n",
    "plt.legend(prop={'size': 12})\n",
    "plt.title(\"Data Plot\")\n",
    "plt.show()"
   ]
  },
  {
   "cell_type": "markdown",
   "id": "isolated-airfare",
   "metadata": {},
   "source": [
    "# Polynomial Regression (Programming Assignment)\n",
    "### Variable Explanation (Do not change variable names)\n",
    "- 'w' is true coefficients of the original polynomial function\n",
    "- 'original_degree' is the order of the original polynomial function\n",
    "- 'x_list' is a list of the points at $x$-axis\n",
    "- 'y_list' is a list of function value $f(x)$ corresponding to 'x_list'. In other words, y_list = $f($x_list$)$\n",
    "- 'x_data' is an input data\n",
    "- 'y_data' is an output data\n",
    "- 'n_data' is the number of data points\n",
    "\n",
    "### Our goal is to estimate 'w' from data points, 'x_data' and 'y_data'. Answer the following problems."
   ]
  },
  {
   "cell_type": "markdown",
   "id": "growing-leather",
   "metadata": {},
   "source": [
    "### 1. Compute a Vandermonde matrix when the degree of polynomial is $4$ (30pt)\n",
    "- The variable 'degree' is the order of polynomial. In this problem, we set degree=$4$\n",
    "- Use the variable 'A' for the Vandermonde matrix. Now, 'A' is initialized as a zero matrix whose elements are all zero. Fill in the element of the Vandermonde matrix by using power operator (\\*\\*), for loop, and np.concatenation."
   ]
  },
  {
   "cell_type": "code",
   "execution_count": 3,
   "id": "outstanding-oriental",
   "metadata": {},
   "outputs": [],
   "source": [
    "degree = 4\n",
    "A = np.zeros((n_data, degree+1)) # Dummy initialization"
   ]
  },
  {
   "cell_type": "markdown",
   "id": "mounted-fisher",
   "metadata": {},
   "source": [
    "### Print results (do not modify the following block)"
   ]
  },
  {
   "cell_type": "code",
   "execution_count": 4,
   "id": "mediterranean-brake",
   "metadata": {},
   "outputs": [
    {
     "name": "stdout",
     "output_type": "stream",
     "text": [
      "[[0. 0. 0. 0. 0.]\n",
      " [0. 0. 0. 0. 0.]\n",
      " [0. 0. 0. 0. 0.]\n",
      " [0. 0. 0. 0. 0.]\n",
      " [0. 0. 0. 0. 0.]\n",
      " [0. 0. 0. 0. 0.]\n",
      " [0. 0. 0. 0. 0.]\n",
      " [0. 0. 0. 0. 0.]\n",
      " [0. 0. 0. 0. 0.]\n",
      " [0. 0. 0. 0. 0.]\n",
      " [0. 0. 0. 0. 0.]\n",
      " [0. 0. 0. 0. 0.]\n",
      " [0. 0. 0. 0. 0.]\n",
      " [0. 0. 0. 0. 0.]\n",
      " [0. 0. 0. 0. 0.]]\n"
     ]
    }
   ],
   "source": [
    "print(A)"
   ]
  },
  {
   "cell_type": "markdown",
   "id": "approximate-italic",
   "metadata": {},
   "source": [
    "### 2. Compute the coefficients of polynomial regression using a $4$ degree polynomial  (40pt)\n",
    "- Use the variable 'degree' and the Vandermonde matrix 'A' in Problem 1.\n",
    "- The variable 'w_est' is the coefficients of polynomial regression. Now, 'w_est' is initialized as a zero vector. Compute the 'w_est' from 'A' and 'y'\n",
    "- The variable 'y_est' is an estimated function value corresponding to the input points 'x_list'. Now, it is a zero list and fill the list by computing the estimated function values. In other words, y_est = $\\hat{f}($x_list$)$"
   ]
  },
  {
   "cell_type": "code",
   "execution_count": 5,
   "id": "finished-incentive",
   "metadata": {},
   "outputs": [
    {
     "ename": "NameError",
     "evalue": "name 'est_order' is not defined",
     "output_type": "error",
     "traceback": [
      "\u001b[1;31m---------------------------------------------------------------------------\u001b[0m",
      "\u001b[1;31mNameError\u001b[0m                                 Traceback (most recent call last)",
      "\u001b[1;32m<ipython-input-5-d4cfaa98e76e>\u001b[0m in \u001b[0;36m<module>\u001b[1;34m\u001b[0m\n\u001b[1;32m----> 1\u001b[1;33m \u001b[0mw_est\u001b[0m \u001b[1;33m=\u001b[0m \u001b[0mnp\u001b[0m\u001b[1;33m.\u001b[0m\u001b[0mzeros\u001b[0m\u001b[1;33m(\u001b[0m\u001b[1;33m(\u001b[0m\u001b[0mest_order\u001b[0m\u001b[1;33m+\u001b[0m\u001b[1;36m1\u001b[0m\u001b[1;33m,\u001b[0m\u001b[1;36m1\u001b[0m\u001b[1;33m)\u001b[0m\u001b[1;33m)\u001b[0m\u001b[1;33m\u001b[0m\u001b[1;33m\u001b[0m\u001b[0m\n\u001b[0m\u001b[0;32m      2\u001b[0m \u001b[0my_est\u001b[0m \u001b[1;33m=\u001b[0m \u001b[0mnp\u001b[0m\u001b[1;33m.\u001b[0m\u001b[0mzeros_like\u001b[0m\u001b[1;33m(\u001b[0m\u001b[0mx_list\u001b[0m\u001b[1;33m)\u001b[0m\u001b[1;33m\u001b[0m\u001b[1;33m\u001b[0m\u001b[0m\n",
      "\u001b[1;31mNameError\u001b[0m: name 'est_order' is not defined"
     ]
    }
   ],
   "source": [
    "w_est = np.zeros((est_order+1,1))\n",
    "y_est = np.zeros_like(x_list)"
   ]
  },
  {
   "cell_type": "markdown",
   "id": "exterior-donor",
   "metadata": {},
   "source": [
    "### Print results (do not modify the following block)"
   ]
  },
  {
   "cell_type": "code",
   "execution_count": null,
   "id": "innovative-truth",
   "metadata": {},
   "outputs": [],
   "source": [
    "plt.plot(x_list, y_list, 'b:', linewidth=2, label=\"Original Function\")\n",
    "plt.plot(x_list, y_est, 'm-', linewidth=2, label=\"Polynomial Regression (d={})\".format(degree))\n",
    "plt.scatter(x_data, y_data, s=50, c='r', label=\"Data Points\")\n",
    "plt.xlim([np.min(x_list),np.max(x_list)])\n",
    "plt.ylim([np.min(y_data),np.max(y_data)])\n",
    "plt.legend(prop={'size': 12})\n",
    "plt.title(\"Data Plot\")\n",
    "plt.show()"
   ]
  },
  {
   "cell_type": "markdown",
   "metadata": {},
   "source": [
    "### 3. Compute the polynomial regression with $1$ degree polynomials (15pt)\n",
    "- Repeat Problem 1 and Problem 2 with degree $1$.\n",
    "- Use the following variables.\n",
    "> degree1, A1, w_est1, y_est1"
   ]
  },
  {
   "cell_type": "code",
   "execution_count": null,
   "id": "australian-italy",
   "metadata": {},
   "outputs": [],
   "source": [
    "degree1 = 1\n",
    "A1 = np.zeros((n_data, degree1+1)) \n",
    "w_est1 = np.zeros((degree1+1,1))\n",
    "y_est1 = np.zeros_like(x_list)"
   ]
  },
  {
   "cell_type": "markdown",
   "metadata": {},
   "source": [
    "### Print results (do not modify the following block)"
   ]
  },
  {
   "cell_type": "code",
   "execution_count": null,
   "metadata": {},
   "outputs": [],
   "source": [
    "plt.plot(x_list, y_list, 'b:', linewidth=2, label=\"Original Function\")\n",
    "plt.plot(x_list, y_est1, 'g-', linewidth=2, label=\"Polynomial Regression (d={})\".format(degree1))\n",
    "plt.scatter(x_data, y_data, s=50, c='r', label=\"Data Points\")\n",
    "plt.xlim([np.min(x_list),np.max(x_list)])\n",
    "plt.ylim([np.min(y_data),np.max(y_data)])\n",
    "plt.legend(prop={'size': 12})\n",
    "plt.title(\"Data Plot\")\n",
    "plt.show()"
   ]
  },
  {
   "cell_type": "markdown",
   "metadata": {},
   "source": [
    "### 4. Compute the polynomial regression with $10$ degree polynomials (15pt)\n",
    "- Repeat Problem 1 and Problem 2 with degree $10$.\n",
    "- Use the following variables.\n",
    "> degree2, A2, w_est2, y_est2"
   ]
  },
  {
   "cell_type": "code",
   "execution_count": null,
   "metadata": {},
   "outputs": [],
   "source": [
    "degree2 = 1\n",
    "A2 = np.zeros((n_data, degree2+1))\n",
    "w_est2 = np.zeros((degree2+1,1))\n",
    "y_est2 = np.zeros_like(x_list)"
   ]
  },
  {
   "cell_type": "markdown",
   "metadata": {},
   "source": [
    "### Print results (do not modify the following block)"
   ]
  },
  {
   "cell_type": "code",
   "execution_count": null,
   "id": "dying-international",
   "metadata": {},
   "outputs": [],
   "source": [
    "plt.plot(x_list, y_list, 'b:', linewidth=2, label=\"Original Function\")\n",
    "plt.plot(x_list, y_est2, 'c-', linewidth=2, label=\"Polynomial Regression (d={})\".format(degree2))\n",
    "plt.scatter(x_data, y_data, s=50, c='r', label=\"Data Points\")\n",
    "plt.xlim([np.min(x_list),np.max(x_list)])\n",
    "plt.ylim([np.min(y_data),np.max(y_data)])\n",
    "plt.legend(prop={'size': 12})\n",
    "plt.title(\"Data Plot\")\n",
    "plt.show()"
   ]
  },
  {
   "cell_type": "markdown",
   "metadata": {},
   "source": [
    "### 5. [Challenging Problem] Explain the effect of degree (20pt)\n",
    "- By solving the above problems, we can observe the behaviors of polynomial regression with different degrees (1, 4, 10)\n",
    "- Explain pros and cons of high degree polynomial\n",
    "- Explain pros and cons of low degree polynomial\n",
    "- What is this phenomenon called in machine learning?"
   ]
  },
  {
   "cell_type": "markdown",
   "metadata": {},
   "source": [
    "### The following figure shows all regression results with different degrees."
   ]
  },
  {
   "cell_type": "code",
   "execution_count": null,
   "metadata": {},
   "outputs": [],
   "source": [
    "plt.plot(x_list, y_list, 'b:', linewidth=2, label=\"Original Function\")\n",
    "plt.plot(x_list, y_est, 'm-', linewidth=2, label=\"Polynomial Regression (d={})\".format(1))\n",
    "plt.plot(x_list, y_est1, 'g-', linewidth=2, label=\"Polynomial Regression (d={})\".format(4))\n",
    "plt.plot(x_list, y_est2, 'c-', linewidth=2, label=\"Polynomial Regression (d={})\".format(10))\n",
    "plt.scatter(x_data, y_data, s=50, c='r', label=\"Data Points\")\n",
    "plt.xlim([np.min(x_list),np.max(x_list)])\n",
    "plt.ylim([np.min(y_data),np.max(y_data)])\n",
    "plt.legend(prop={'size': 12})\n",
    "plt.title(\"Data Plot\")\n",
    "plt.show()"
   ]
  },
  {
   "cell_type": "markdown",
   "metadata": {},
   "source": [
    "Write your answer!!!"
   ]
  }
 ],
 "metadata": {
  "kernelspec": {
   "display_name": "Python 3",
   "language": "python",
   "name": "python3"
  },
  "language_info": {
   "codemirror_mode": {
    "name": "ipython",
    "version": 3
   },
   "file_extension": ".py",
   "mimetype": "text/x-python",
   "name": "python",
   "nbconvert_exporter": "python",
   "pygments_lexer": "ipython3",
   "version": "3.9.2"
  }
 },
 "nbformat": 4,
 "nbformat_minor": 5
}
